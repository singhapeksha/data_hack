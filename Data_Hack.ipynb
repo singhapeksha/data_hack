{
  "nbformat": 4,
  "nbformat_minor": 0,
  "metadata": {
    "colab": {
      "provenance": []
    },
    "kernelspec": {
      "name": "python3",
      "display_name": "Python 3"
    },
    "language_info": {
      "name": "python"
    }
  },
  "cells": [
    {
      "cell_type": "code",
      "execution_count": null,
      "metadata": {
        "id": "uGMOU6GwMmVB"
      },
      "outputs": [],
      "source": [
        "import pandas as pd\n",
        "import numpy as np\n",
        "from sklearn.model_selection import train_test_split, StratifiedKFold, GridSearchCV\n",
        "from sklearn.preprocessing import OneHotEncoder, StandardScaler\n",
        "from sklearn.pipeline import Pipeline\n",
        "from sklearn.compose import ColumnTransformer\n",
        "from sklearn.impute import SimpleImputer\n",
        "from sklearn.ensemble import RandomForestClassifier\n",
        "from sklearn.metrics import roc_auc_score\n",
        "\n",
        "\n"
      ]
    },
    {
      "cell_type": "code",
      "source": [
        "# Load the data\n",
        "train = pd.read_csv('train.csv')\n",
        "test = pd.read_csv('test.csv')\n",
        "\n"
      ],
      "metadata": {
        "id": "C7xJE8GyMxlG"
      },
      "execution_count": null,
      "outputs": []
    },
    {
      "cell_type": "code",
      "source": [
        "# Separate features and target variables\n",
        "X = train.drop(['respondent_id', 'xyz_vaccine', 'seasonal_vaccine'], axis=1)\n",
        "y = train[['xyz_vaccine', 'seasonal_vaccine']]\n",
        "test_id = test['respondent_id']\n",
        "X_test = test.drop(['respondent_id'], axis=1)\n",
        "\n"
      ],
      "metadata": {
        "id": "Cn7-okmOM2jt"
      },
      "execution_count": null,
      "outputs": []
    },
    {
      "cell_type": "code",
      "source": [
        "# Preprocessing pipelines for numeric and categorical data\n",
        "numeric_features = X.select_dtypes(include=['int64', 'float64']).columns\n",
        "categorical_features = X.select_dtypes(include=['object']).columns\n",
        "\n",
        "numeric_transformer = Pipeline(steps=[\n",
        "    ('imputer', SimpleImputer(strategy='median')),\n",
        "    ('scaler', StandardScaler())])\n",
        "\n",
        "categorical_transformer = Pipeline(steps=[\n",
        "    ('imputer', SimpleImputer(strategy='most_frequent')),\n",
        "    ('onehot', OneHotEncoder(handle_unknown='ignore'))])\n",
        "\n",
        "preprocessor = ColumnTransformer(\n",
        "    transformers=[\n",
        "        ('num', numeric_transformer, numeric_features),\n",
        "        ('cat', categorical_transformer, categorical_features)])\n",
        "\n"
      ],
      "metadata": {
        "id": "7Hw-S7d7M60d"
      },
      "execution_count": null,
      "outputs": []
    },
    {
      "cell_type": "code",
      "source": [
        "# Append classifier to preprocessing pipeline\n",
        "# Now we have a full prediction pipeline\n",
        "clf = Pipeline(steps=[('preprocessor', preprocessor),\n",
        "                      ('classifier', RandomForestClassifier())])\n",
        "\n"
      ],
      "metadata": {
        "id": "szdHFPpJNCSR"
      },
      "execution_count": null,
      "outputs": []
    },
    {
      "cell_type": "code",
      "source": [
        "# Split data into training and validation sets\n",
        "X_train, X_val, y_train, y_val = train_test_split(X, y, test_size=0.2, random_state=42)\n",
        "\n"
      ],
      "metadata": {
        "id": "j92hIztnNF6W"
      },
      "execution_count": null,
      "outputs": []
    },
    {
      "cell_type": "code",
      "source": [
        "# Train the model\n",
        "clf.fit(X_train, y_train)\n",
        "\n"
      ],
      "metadata": {
        "id": "Z5Gy3T-BNIdu"
      },
      "execution_count": null,
      "outputs": []
    },
    {
      "cell_type": "code",
      "source": [
        "# Predict probabilities\n",
        "y_pred_train = clf.predict_proba(X_val)\n"
      ],
      "metadata": {
        "id": "zzmwWUmlNMLz"
      },
      "execution_count": null,
      "outputs": []
    },
    {
      "cell_type": "code",
      "source": [
        "\n",
        "# Convert prediction to the appropriate format for multilabel ROC AUC\n",
        "y_pred_train_xyz = y_pred_train[0][:, 1]\n",
        "y_pred_train_seasonal = y_pred_train[1][:, 1]\n"
      ],
      "metadata": {
        "id": "gN670MQFNQMz"
      },
      "execution_count": null,
      "outputs": []
    },
    {
      "cell_type": "code",
      "source": [
        "# Evaluate the model\n",
        "roc_auc_xyz = roc_auc_score(y_val['xyz_vaccine'], y_pred_train_xyz)\n",
        "roc_auc_seasonal = roc_auc_score(y_val['seasonal_vaccine'], y_pred_train_seasonal)\n",
        "mean_roc_auc = np.mean([roc_auc_xyz, roc_auc_seasonal])\n",
        "\n",
        "print(f'Mean ROC AUC Score: {mean_roc_auc}')"
      ],
      "metadata": {
        "id": "VO3GspjyNT66"
      },
      "execution_count": null,
      "outputs": []
    },
    {
      "cell_type": "code",
      "source": [
        "# Predict on the test set\n",
        "y_pred_test = clf.predict_proba(X_test)\n",
        "test['xyz_vaccine'] = y_pred_test[0][:, 1]\n",
        "test['seasonal_vaccine'] = y_pred_test[1][:, 1]"
      ],
      "metadata": {
        "id": "kO7QzqWqNXVv"
      },
      "execution_count": null,
      "outputs": []
    },
    {
      "cell_type": "code",
      "source": [
        "# Prepare submission file\n",
        "submission = test[['respondent_id', 'xyz_vaccine', 'seasonal_vaccine']]\n",
        "submission.to_csv('submission.csv', index=False)"
      ],
      "metadata": {
        "id": "j9sAfDzpNZcJ"
      },
      "execution_count": null,
      "outputs": []
    }
  ]
}